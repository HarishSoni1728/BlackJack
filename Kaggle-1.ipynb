{
 "cells": [
  {
   "cell_type": "code",
   "execution_count": 5,
   "metadata": {},
   "outputs": [
    {
     "name": "stdout",
     "output_type": "stream",
     "text": [
      "0\n",
      "But I don't want ANY spam!\n",
      "4\n",
      "Spam Spam Spam Spam \n"
     ]
    }
   ],
   "source": [
    "spam_amount = 0\n",
    "print(spam_amount)\n",
    "\n",
    "# Ordering Spam, egg, Spam, Spam, bacon and Spam (4 more servings of Spam)\n",
    "spam_amount = spam_amount + 4\n",
    "\n",
    "if spam_amount > 0:\n",
    "    \n",
    "    print(\"But I don't want ANY spam!\")\n",
    "    print(spam_amount)\n",
    "\n",
    "viking_song = \"Spam \" * spam_amount\n",
    "print(viking_song)"
   ]
  },
  {
   "cell_type": "code",
   "execution_count": 6,
   "metadata": {},
   "outputs": [
    {
     "data": {
      "text/plain": [
       "5"
      ]
     },
     "execution_count": 6,
     "metadata": {},
     "output_type": "execute_result"
    }
   ],
   "source": [
    "x = abs(-5)\n",
    "x"
   ]
  },
  {
   "cell_type": "code",
   "execution_count": 184,
   "metadata": {},
   "outputs": [
    {
     "ename": "ValueError",
     "evalue": "invalid literal for int() with base 10: 'AKQJ'",
     "output_type": "error",
     "traceback": [
      "\u001b[1;31m---------------------------------------------------------------------------\u001b[0m",
      "\u001b[1;31mValueError\u001b[0m                                Traceback (most recent call last)",
      "\u001b[1;32m<ipython-input-184-fcd3d66b1e06>\u001b[0m in \u001b[0;36m<module>\u001b[1;34m\u001b[0m\n\u001b[0;32m      9\u001b[0m \u001b[1;31m# char1 = string.ascii_uppercase + str(random.choice([i for i in range(1,11)]))\u001b[0m\u001b[1;33m\u001b[0m\u001b[1;33m\u001b[0m\u001b[1;33m\u001b[0m\u001b[0m\n\u001b[0;32m     10\u001b[0m \u001b[1;31m# char1 = str(random.choice([i for i in range(1,11)])) + 'AKQJ'\u001b[0m\u001b[1;33m\u001b[0m\u001b[1;33m\u001b[0m\u001b[1;33m\u001b[0m\u001b[0m\n\u001b[1;32m---> 11\u001b[1;33m \u001b[0mchar1\u001b[0m \u001b[1;33m=\u001b[0m \u001b[0mrandom\u001b[0m\u001b[1;33m.\u001b[0m\u001b[0mchoice\u001b[0m\u001b[1;33m(\u001b[0m\u001b[1;33m[\u001b[0m\u001b[0mi\u001b[0m \u001b[1;32mfor\u001b[0m \u001b[0mi\u001b[0m \u001b[1;32min\u001b[0m \u001b[0mrange\u001b[0m\u001b[1;33m(\u001b[0m\u001b[1;36m1\u001b[0m\u001b[1;33m,\u001b[0m\u001b[1;36m11\u001b[0m\u001b[1;33m)\u001b[0m\u001b[1;33m]\u001b[0m\u001b[1;33m)\u001b[0m \u001b[1;33m+\u001b[0m \u001b[0mint\u001b[0m\u001b[1;33m(\u001b[0m\u001b[1;34m'AKQJ'\u001b[0m\u001b[1;33m)\u001b[0m\u001b[1;33m\u001b[0m\u001b[1;33m\u001b[0m\u001b[0m\n\u001b[0m\u001b[0;32m     12\u001b[0m \u001b[0msize\u001b[0m \u001b[1;33m=\u001b[0m \u001b[1;36m1\u001b[0m\u001b[1;33m\u001b[0m\u001b[1;33m\u001b[0m\u001b[0m\n\u001b[0;32m     13\u001b[0m \u001b[1;33m\u001b[0m\u001b[0m\n",
      "\u001b[1;31mValueError\u001b[0m: invalid literal for int() with base 10: 'AKQJ'"
     ]
    }
   ],
   "source": [
    "import random\n",
    "import string\n",
    "\n",
    "def random_string_generator(str_size, allowed_chars):\n",
    "#     allowed_chars = 'AKJQ'\n",
    "    return ''.join(random.choice(allowed_chars) for x in range(str_size))\n",
    "\n",
    "\n",
    "# char1 = string.ascii_uppercase + str(random.choice([i for i in range(1,11)]))\n",
    "# char1 = str(random.choice([i for i in range(1,11)])) + 'AKQJ'\n",
    "char1 = random.choice([i for i in range(1,11)]) + 'AKQJ'\n",
    "size = 1\n",
    "\n",
    "\n",
    "print(char1)\n",
    "print('Random String of length 1 =', random_string_generator(size, char1))"
   ]
  },
  {
   "cell_type": "code",
   "execution_count": 28,
   "metadata": {
    "scrolled": true
   },
   "outputs": [
    {
     "name": "stdout",
     "output_type": "stream",
     "text": [
      "abcdefghijklmnopqrstuvwxyzABCDEFGHIJKLMNOPQRSTUVWXYZ!\"#$%&'()*+,-./:;<=>?@[\\]^_`{|}~\n",
      "ABCDEFGHIJKLMNOPQRSTUVWXYZ\n",
      "Random String of length 12 = I\n"
     ]
    }
   ],
   "source": [
    "import random\n",
    "import string\n",
    "\n",
    "def random_string_generator(str_size, allowed_chars):\n",
    "    return ''.join(random.choice(allowed_chars) for x in range(str_size))\n",
    "\n",
    "chars = string.ascii_letters + string.punctuation\n",
    "char1 = string.ascii_uppercase\n",
    "size = 1\n",
    "\n",
    "print(chars)\n",
    "print(char1)\n",
    "print('Random String of length 12 =', random_string_generator(size, chars))"
   ]
  },
  {
   "cell_type": "markdown",
   "metadata": {},
   "source": [
    "BLACK JACK\n"
   ]
  },
  {
   "cell_type": "code",
   "execution_count": 367,
   "metadata": {},
   "outputs": [
    {
     "name": "stdout",
     "output_type": "stream",
     "text": [
      "5AKQJ\n",
      "8\n",
      "6\n",
      "9K\n",
      "Random String of length 1 = 9\n"
     ]
    }
   ],
   "source": [
    "import random\n",
    "import string\n",
    "\n",
    "def random_string_generator(str_size, allowed_chars):\n",
    "#     allowed_chars = 'AKJQ'\n",
    "    return ''.join(random.choice(allowed_chars) for x in range(str_size))\n",
    "\n",
    "\n",
    "# char1 = string.ascii_uppercase + str(random.choice([i for i in range(1,11)]))\n",
    "# char1 = str(random.choice([i for i in range(1,11)])) + 'AKQJ'\n",
    "char1 = str(random.choice([i for i in range(1,11)])) + 'AKQJ'\n",
    "# char2 = random.sample(range(1,11),1)\n",
    "char3 = random.randint(1,11)\n",
    "char4 = random.randrange(1,10,1)\n",
    "\n",
    "\n",
    "char5 = str(random.randrange(1,11,1)) + random.choice('AKQJ')\n",
    "size = 1\n",
    "\n",
    "\n",
    "print(char1)\n",
    "print(char3)\n",
    "print(char4)\n",
    "print(char5)\n",
    "print('Random String of length 1 =', random_string_generator(size, char5))\n"
   ]
  },
  {
   "cell_type": "code",
   "execution_count": 11,
   "metadata": {},
   "outputs": [
    {
     "name": "stdout",
     "output_type": "stream",
     "text": [
      "Delaers Card : 6\n",
      "PLayers Card : A\n",
      "11\n",
      "PLayer Total Count :  11\n",
      "Do you want to Hit or Stay .Enter Y for Yes and N for No : Y\n",
      "Delaers Card : 6\n",
      "PLayers Card : A\n",
      "11\n",
      "PLayer Total Count :  22\n",
      "6\n",
      "4\n",
      "Dealer Total Count :  10\n",
      "4\n",
      "Dealer Total Count :  14\n",
      "10\n",
      "Dealer Total Count :  24\n",
      "Player Win .....Horayyy !!!\n"
     ]
    }
   ],
   "source": [
    "import random\n",
    "import string\n",
    "\n",
    "def random_string_generator(str_size, allowed_chars):\n",
    "    return ''.join(random.choice(allowed_chars) for x in range(str_size))\n",
    "\n",
    "\n",
    "def BJD(dealers_card,players_card,dealers_total_count):\n",
    "    if (dealers_card in 'KJQ'):\n",
    "        dealers_count = 10\n",
    "    elif(dealers_card == 'A'):\n",
    "        dealers_count = 11\n",
    "    else:\n",
    "        dealers_count = int(dealers_card)\n",
    "    print(dealers_count)\n",
    "\n",
    "    dealers_total_count = dealers_total_count + dealers_count\n",
    "    print('Dealer Total Count : ',dealers_total_count)\n",
    "    \n",
    "    if (dealers_total_count < 17):\n",
    "        dealer = str(random.randrange(1,11,1)) + random.choice('AKQJ')\n",
    "        size = 1\n",
    "        dealers_card = random_string_generator(size,dealer)\n",
    "        \n",
    "        BJD(dealers_card,players_card,dealers_total_count)\n",
    "    elif (dealers_total_count > 17 and dealers_total_count <=21):\n",
    "        print(\"Need to code\")\n",
    "    else:\n",
    "        print('Player Win .....Horayyy !!!')\n",
    "    \n",
    "\n",
    "def BJ(dealers_card,players_card,player_total_count):\n",
    "    print('Delaers Card :' ,dealers_card)\n",
    "    print('PLayers Card :' ,players_card)\n",
    "    \n",
    "#     player_total_count = 0\n",
    "    \n",
    "\n",
    "    if (players_card in 'KJQ'):\n",
    "        player_count = 10\n",
    "    elif(players_card == 'A'):\n",
    "        player_count = 11\n",
    "    else:\n",
    "        player_count = int(players_card)\n",
    "    print(player_count)\n",
    "\n",
    "    player_total_count = player_total_count + player_count\n",
    "    print('PLayer Total Count : ',player_total_count)\n",
    "    if (player_total_count < 17):\n",
    "        hit_again = input(\"Do you want to Hit or Stay .Enter Y for Yes and N for No : \")\n",
    "        if (hit_again == 'Y'):\n",
    "            player = str(random.randrange(1,11,1)) + random.choice('AKQJ')\n",
    "            size = 1\n",
    "            players_card = random_string_generator(size,player)\n",
    "            BJ(dealers_card,players_card,player_total_count)\n",
    "        else:\n",
    "            dealer = str(random.randrange(1,11,1)) + random.choice('AKQJ')\n",
    "            size = 1\n",
    "            dealers_card = random_string_generator(size,dealer)\n",
    "            dealers_total_count = 0\n",
    "            BJD(dealers_card,players_card,dealers_total_count)\n",
    "    elif (player_total_count >= 17):\n",
    "        if (dealers_card in 'KJQ'):\n",
    "            dealers_count = 10\n",
    "        elif(dealers_card == 'A'):\n",
    "            dealers_count = 11\n",
    "        else:\n",
    "            dealers_count = int(dealers_card)\n",
    "            print(dealers_count)\n",
    "        dealer = str(random.randrange(1,11,1)) + random.choice('AKQJ')\n",
    "        size = 1\n",
    "        dealers_card = random_string_generator(size,dealer)\n",
    "        dealers_total_count = dealers_count\n",
    "        BJD(dealers_card,players_card,dealers_total_count)\n",
    "        \n",
    "    \n",
    "\n",
    "dealer = str(random.randrange(1,11,1)) + random.choice('AKQJ')\n",
    "player = str(random.randrange(1,11,1)) + random.choice('AKQJ')\n",
    "size = 1\n",
    "\n",
    "\n",
    "dealers_card = random_string_generator(size,dealer)\n",
    "players_card = random_string_generator(size,player)\n",
    "\n",
    "player_total_count = 0\n",
    "BJ(dealers_card,players_card,player_total_count=0)\n",
    "\n",
    "\n",
    "\n"
   ]
  }
 ],
 "metadata": {
  "kernelspec": {
   "display_name": "Python 3",
   "language": "python",
   "name": "python3"
  },
  "language_info": {
   "codemirror_mode": {
    "name": "ipython",
    "version": 3
   },
   "file_extension": ".py",
   "mimetype": "text/x-python",
   "name": "python",
   "nbconvert_exporter": "python",
   "pygments_lexer": "ipython3",
   "version": "3.7.1"
  }
 },
 "nbformat": 4,
 "nbformat_minor": 2
}
